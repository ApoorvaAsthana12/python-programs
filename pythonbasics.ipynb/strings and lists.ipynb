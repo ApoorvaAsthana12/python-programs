{
 "cells": [
  {
   "cell_type": "markdown",
   "metadata": {},
   "source": [
    "creating strings in python"
   ]
  },
  {
   "cell_type": "code",
   "execution_count": 1,
   "metadata": {},
   "outputs": [
    {
     "name": "stdout",
     "output_type": "stream",
     "text": [
      "hello\n"
     ]
    }
   ],
   "source": [
    "a=\"hello\"\n",
    "print(a)"
   ]
  },
  {
   "cell_type": "code",
   "execution_count": 2,
   "metadata": {},
   "outputs": [
    {
     "name": "stdout",
     "output_type": "stream",
     "text": [
      "this is class 7 of data analyst\n",
      "<class 'str'>\n"
     ]
    }
   ],
   "source": [
    "b=\"this is class 7 of data analyst\"\n",
    "print(b)\n",
    "print(type(b))\n"
   ]
  },
  {
   "cell_type": "markdown",
   "metadata": {},
   "source": [
    "multline strings triple inverted commas\n"
   ]
  },
  {
   "cell_type": "code",
   "execution_count": 4,
   "metadata": {},
   "outputs": [
    {
     "name": "stdout",
     "output_type": "stream",
     "text": [
      "I hereby certify that the work, which is being presented in the dissertation,\n",
      " entitled “Text to Speech Converter”in partial fulfilment of the of the requirements for\n",
      "   the award of degree of Master of Computer Application (MCA) submitted in the Department of Computer \n",
      "   Science at Dr. Shakuntala Misra National Rehabilitation University, Lucknow in an authentic record of my \n",
      "   own work carried out during the period from March 2024 to June 2024 under the supervision of DR.DEVESH KATIYAR & Mr. GAURAV GOEL. The matter presented in the dissertation has not been submitted by me in any other University/ Institute for the award of any degree.\n"
     ]
    }
   ],
   "source": [
    "b='''I hereby certify that the work, which is being presented in the dissertation,\n",
    " entitled “Text to Speech Converter”in partial fulfilment of the of the requirements for\n",
    "   the award of degree of Master of Computer Application (MCA) submitted in the Department of Computer \n",
    "   Science at Dr. Shakuntala Misra National Rehabilitation University, Lucknow in an authentic record of my \n",
    "   own work carried out during the period from March 2024 to June 2024 under the supervision of DR.DEVESH KATIYAR & Mr. GAURAV GOEL. The matter presented in the dissertation has not been submitted by me in any other University/ Institute for the award of any degree.'''\n",
    "print(b)"
   ]
  },
  {
   "cell_type": "code",
   "execution_count": 18,
   "metadata": {},
   "outputs": [
    {
     "name": "stdout",
     "output_type": "stream",
     "text": [
      "646\n"
     ]
    }
   ],
   "source": [
    "print(len(b))"
   ]
  },
  {
   "cell_type": "markdown",
   "metadata": {},
   "source": [
    "indexing"
   ]
  },
  {
   "cell_type": "code",
   "execution_count": 7,
   "metadata": {},
   "outputs": [
    {
     "name": "stdout",
     "output_type": "stream",
     "text": [
      "n\n",
      " \n"
     ]
    }
   ],
   "source": [
    "a=\"hello students\"\n",
    "\n",
    "print(a[11])\n",
    "print(a[5])"
   ]
  },
  {
   "cell_type": "code",
   "execution_count": 8,
   "metadata": {},
   "outputs": [
    {
     "name": "stdout",
     "output_type": "stream",
     "text": [
      "s\n"
     ]
    }
   ],
   "source": [
    "print(a[6])"
   ]
  },
  {
   "cell_type": "code",
   "execution_count": 9,
   "metadata": {},
   "outputs": [
    {
     "name": "stdout",
     "output_type": "stream",
     "text": [
      "e\n"
     ]
    }
   ],
   "source": [
    "a=\"hello students\"\n",
    "print(a[-4])"
   ]
  },
  {
   "cell_type": "code",
   "execution_count": 13,
   "metadata": {},
   "outputs": [
    {
     "name": "stdout",
     "output_type": "stream",
     "text": [
      "s\n",
      "g\n"
     ]
    }
   ],
   "source": [
    "a=\"how is your studies going on\"\n",
    "print(a[12])\n",
    "print(a[-8])"
   ]
  },
  {
   "cell_type": "markdown",
   "metadata": {},
   "source": [
    "slicing of strings kuch words ya letters ko nikalna"
   ]
  },
  {
   "cell_type": "markdown",
   "metadata": {},
   "source": [
    "start end step"
   ]
  },
  {
   "cell_type": "code",
   "execution_count": 14,
   "metadata": {},
   "outputs": [
    {
     "name": "stdout",
     "output_type": "stream",
     "text": [
      "hello\n"
     ]
    }
   ],
   "source": [
    "a=\"hello students how are you ?\"\n",
    "print(a[0:5])"
   ]
  },
  {
   "cell_type": "code",
   "execution_count": 15,
   "metadata": {},
   "outputs": [
    {
     "name": "stdout",
     "output_type": "stream",
     "text": [
      "students how\n"
     ]
    }
   ],
   "source": [
    "a=\"hello students how are you ?\"\n",
    "print(a[6:18])"
   ]
  },
  {
   "cell_type": "code",
   "execution_count": 16,
   "metadata": {},
   "outputs": [
    {
     "name": "stdout",
     "output_type": "stream",
     "text": [
      "hlosuet o \n"
     ]
    }
   ],
   "source": [
    "a=\"hello students how are your ?\"\n",
    "print(a[0:20:2])"
   ]
  },
  {
   "cell_type": "code",
   "execution_count": 17,
   "metadata": {},
   "outputs": [
    {
     "name": "stdout",
     "output_type": "stream",
     "text": [
      "? uoy era woh stneduts molleh\n"
     ]
    }
   ],
   "source": [
    "a=\"hellom students how are you ?\"\n",
    "print(a[::-1])"
   ]
  },
  {
   "cell_type": "markdown",
   "metadata": {},
   "source": [
    "find lengthnof the string"
   ]
  },
  {
   "cell_type": "code",
   "execution_count": 19,
   "metadata": {},
   "outputs": [
    {
     "name": "stdout",
     "output_type": "stream",
     "text": [
      "36\n"
     ]
    }
   ],
   "source": [
    "a=\"breaking the habit of being yourself\"\n",
    "print(len(a))"
   ]
  },
  {
   "cell_type": "code",
   "execution_count": 20,
   "metadata": {},
   "outputs": [
    {
     "name": "stdout",
     "output_type": "stream",
     "text": [
      "hello world\n",
      "11\n"
     ]
    }
   ],
   "source": [
    "b=\"hello world\"\n",
    "print(b)\n",
    "print(len(b))"
   ]
  },
  {
   "cell_type": "markdown",
   "metadata": {},
   "source": [
    "convert into capital letters"
   ]
  },
  {
   "cell_type": "code",
   "execution_count": 21,
   "metadata": {},
   "outputs": [
    {
     "name": "stdout",
     "output_type": "stream",
     "text": [
      "HELLO HOW ARE YOU\n"
     ]
    }
   ],
   "source": [
    "a=\"hello how are you\"\n",
    "print(a.upper())"
   ]
  },
  {
   "cell_type": "markdown",
   "metadata": {},
   "source": [
    "CONVERT TO SMALL LETTERS"
   ]
  },
  {
   "cell_type": "code",
   "execution_count": 23,
   "metadata": {},
   "outputs": [
    {
     "name": "stdout",
     "output_type": "stream",
     "text": [
      "hello apoorva\n"
     ]
    }
   ],
   "source": [
    "a=\"HELLO APOORVA\"\n",
    "print(a.lower())"
   ]
  },
  {
   "cell_type": "markdown",
   "metadata": {},
   "source": [
    "REPLACE FUNCTION"
   ]
  },
  {
   "cell_type": "code",
   "execution_count": 24,
   "metadata": {},
   "outputs": [
    {
     "name": "stdout",
     "output_type": "stream",
     "text": [
      "bye how are you ?\n"
     ]
    }
   ],
   "source": [
    "a=\"hello how are you ?\"\n",
    "print(a.replace(\"hello\",\"bye\"))"
   ]
  },
  {
   "cell_type": "code",
   "execution_count": 25,
   "metadata": {},
   "outputs": [
    {
     "name": "stdout",
     "output_type": "stream",
     "text": [
      "hello how are sou ?\n"
     ]
    }
   ],
   "source": [
    "a=\"hello how are you ?\"\n",
    "print(a.replace(\"y\",\"s\"))"
   ]
  },
  {
   "cell_type": "code",
   "execution_count": 26,
   "metadata": {},
   "outputs": [
    {
     "name": "stdout",
     "output_type": "stream",
     "text": [
      "hello world\n",
      "hello students\n"
     ]
    }
   ],
   "source": [
    "b=\"hello world\"\n",
    "print(b)\n",
    "print(b.replace(\"world\",\"students\"))"
   ]
  },
  {
   "cell_type": "markdown",
   "metadata": {},
   "source": [
    "FIND METHOD"
   ]
  },
  {
   "cell_type": "code",
   "execution_count": 28,
   "metadata": {},
   "outputs": [
    {
     "name": "stdout",
     "output_type": "stream",
     "text": [
      "10\n"
     ]
    }
   ],
   "source": [
    "a=\"python is great\"\n",
    "b=a.find(\"g\")\n",
    "print(b)"
   ]
  },
  {
   "cell_type": "code",
   "execution_count": 29,
   "metadata": {},
   "outputs": [
    {
     "name": "stdout",
     "output_type": "stream",
     "text": [
      "0\n"
     ]
    }
   ],
   "source": [
    "a=\"python is great\"\n",
    "b=a.find(\"p\")\n",
    "print(b)"
   ]
  },
  {
   "cell_type": "markdown",
   "metadata": {},
   "source": [
    "lists used to store multiple items is na variable ordered changeable and allow duplicates"
   ]
  },
  {
   "cell_type": "markdown",
   "metadata": {},
   "source": [
    "creating list"
   ]
  },
  {
   "cell_type": "code",
   "execution_count": 2,
   "metadata": {},
   "outputs": [
    {
     "name": "stdout",
     "output_type": "stream",
     "text": [
      "['apple', 'banana', 'cherry']\n",
      "<class 'list'>\n"
     ]
    }
   ],
   "source": [
    "mylist=[\"apple\",\"banana\",\"cherry\"]\n",
    "print(mylist)\n",
    "print(type(mylist))"
   ]
  },
  {
   "cell_type": "markdown",
   "metadata": {},
   "source": [
    "allow duplicates"
   ]
  },
  {
   "cell_type": "code",
   "execution_count": 3,
   "metadata": {},
   "outputs": [
    {
     "name": "stdout",
     "output_type": "stream",
     "text": [
      "['apple', 'banana', 'apple', 'cherry', 'banana', 'apple']\n"
     ]
    }
   ],
   "source": [
    "mylist=[\"apple\",\"banana\",\"apple\",\"cherry\",\"banana\",\"apple\"]\n",
    "print(mylist)"
   ]
  },
  {
   "cell_type": "markdown",
   "metadata": {},
   "source": [
    "data types we can use in sinle variable"
   ]
  },
  {
   "cell_type": "code",
   "execution_count": 4,
   "metadata": {},
   "outputs": [
    {
     "name": "stdout",
     "output_type": "stream",
     "text": [
      "['apple', 'banana', 'cheery']\n",
      "[2, 5, 8]\n",
      "[7.8, 8.9, 2.5]\n",
      "[True, False, True]\n"
     ]
    }
   ],
   "source": [
    "list1=[\"apple\",\"banana\",\"cheery\"]\n",
    "list2=[2,5,8]\n",
    "list3=[7.8,8.9,2.5]\n",
    "list4=[True,False,True]\n",
    "print(list1)\n",
    "print(list2)\n",
    "print(list3)\n",
    "print(list4)"
   ]
  },
  {
   "cell_type": "code",
   "execution_count": 7,
   "metadata": {},
   "outputs": [
    {
     "name": "stdout",
     "output_type": "stream",
     "text": [
      "[12, -8, 5, -7, 2.3, 2, 5, 3.6, 'students', 'hello', True, False]\n",
      "12\n"
     ]
    }
   ],
   "source": [
    "a=[12,-8,5,-7,2.3,2,5,3.6,\"students\",\"hello\",True,False]\n",
    "print(a)\n",
    "print(len(a))##length of string"
   ]
  },
  {
   "cell_type": "markdown",
   "metadata": {},
   "source": [
    "accessing items"
   ]
  },
  {
   "cell_type": "code",
   "execution_count": 14,
   "metadata": {},
   "outputs": [
    {
     "name": "stdout",
     "output_type": "stream",
     "text": [
      "15\n",
      "52\n",
      "5\n",
      "96\n",
      "[12, 15, 26, 78, 14, 25]\n",
      "[14, 25, 96, 142]\n",
      "[12, 26, 14, 96, 52, 6]\n",
      "[5, 6, 22, 52, 142, 96, 25, 14, 78, 26, 15, 12]\n"
     ]
    }
   ],
   "source": [
    "thislist=[12,15,26,78,14,25,96,142,52,22,6,5]\n",
    "print(thislist[1])\n",
    "print(thislist[8])\n",
    "print(thislist[-1])\n",
    "print(thislist[-6])\n",
    "print(thislist[0:6])\n",
    "print(thislist[4:8])\n",
    "print(thislist[0:12:2])\n",
    "print(thislist[::-1])"
   ]
  },
  {
   "cell_type": "markdown",
   "metadata": {},
   "source": [
    "change items in list"
   ]
  },
  {
   "cell_type": "code",
   "execution_count": 17,
   "metadata": {},
   "outputs": [
    {
     "name": "stdout",
     "output_type": "stream",
     "text": [
      "['apple', 'strawberry', 'cherry']\n"
     ]
    }
   ],
   "source": [
    "thislist=[\"apple\",\"banana\",\"cherry\"]\n",
    "thislist[1]=\"strawberry\"\n",
    "print(thislist)"
   ]
  },
  {
   "cell_type": "code",
   "execution_count": 18,
   "metadata": {},
   "outputs": [
    {
     "name": "stdout",
     "output_type": "stream",
     "text": [
      "[12, 14, 'students', 16, 8, -9, 5, -3, 41, -9]\n"
     ]
    }
   ],
   "source": [
    "a=[12,14,15,16,8,-9,5,-3,41,-9]\n",
    "a[2]=\"students\"\n",
    "print(a)"
   ]
  },
  {
   "cell_type": "markdown",
   "metadata": {},
   "source": [
    "changing range of item values"
   ]
  },
  {
   "cell_type": "code",
   "execution_count": 19,
   "metadata": {},
   "outputs": [
    {
     "name": "stdout",
     "output_type": "stream",
     "text": [
      "[2, 14, 'books', 'pen', 'paper', 8, 57, 9, 8]\n"
     ]
    }
   ],
   "source": [
    "a=[2,14,15,16,8,57,9,8]\n",
    "a[2:4]=[\"books\",\"pen\",\"paper\"]\n",
    "print(a)"
   ]
  },
  {
   "cell_type": "code",
   "execution_count": null,
   "metadata": {},
   "outputs": [],
   "source": []
  }
 ],
 "metadata": {
  "kernelspec": {
   "display_name": "Python 3",
   "language": "python",
   "name": "python3"
  },
  "language_info": {
   "codemirror_mode": {
    "name": "ipython",
    "version": 3
   },
   "file_extension": ".py",
   "mimetype": "text/x-python",
   "name": "python",
   "nbconvert_exporter": "python",
   "pygments_lexer": "ipython3",
   "version": "3.13.1"
  }
 },
 "nbformat": 4,
 "nbformat_minor": 2
}
