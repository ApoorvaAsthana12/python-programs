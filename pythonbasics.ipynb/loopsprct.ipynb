{
 "cells": [
  {
   "cell_type": "code",
   "execution_count": 2,
   "metadata": {},
   "outputs": [
    {
     "name": "stdout",
     "output_type": "stream",
     "text": [
      "1\n",
      "2\n",
      "3\n",
      "4\n",
      "5\n",
      "6\n",
      "7\n",
      "8\n",
      "9\n",
      "10\n"
     ]
    }
   ],
   "source": [
    "for i in range(1,11):\n",
    "    print(i)\n",
    "    ## numbers from 1 to 10"
   ]
  },
  {
   "cell_type": "code",
   "execution_count": 3,
   "metadata": {},
   "outputs": [
    {
     "name": "stdout",
     "output_type": "stream",
     "text": [
      "5  *  1 = 5\n",
      "5  *  2 = 10\n",
      "5  *  3 = 15\n",
      "5  *  4 = 20\n",
      "5  *  5 = 25\n",
      "5  *  6 = 30\n",
      "5  *  7 = 35\n",
      "5  *  8 = 40\n",
      "5  *  9 = 45\n",
      "5  *  10 = 50\n"
     ]
    }
   ],
   "source": [
    "n = int(input(\"enter the number\"))\n",
    "for i in range(1,11,1):\n",
    "    print(n,\" * \",i,\"=\",n*i)"
   ]
  },
  {
   "cell_type": "code",
   "execution_count": 4,
   "metadata": {},
   "outputs": [
    {
     "name": "stdout",
     "output_type": "stream",
     "text": [
      "6\n",
      "12\n",
      "18\n",
      "24\n",
      "30\n",
      "36\n",
      "42\n",
      "48\n",
      "54\n",
      "60\n"
     ]
    }
   ],
   "source": [
    "n = int(input(\"enter number\"))\n",
    "x=1\n",
    "while x<=10:\n",
    "    print(n*x)\n",
    "    x=x+1\n",
    "##table of number"
   ]
  },
  {
   "cell_type": "code",
   "execution_count": 9,
   "metadata": {},
   "outputs": [
    {
     "name": "stdout",
     "output_type": "stream",
     "text": [
      "2550\n"
     ]
    }
   ],
   "source": [
    "sum=0\n",
    "for i in range(1,101,1):\n",
    "    if i%2==0:\n",
    "        sum=sum+i\n",
    "print(sum)"
   ]
  },
  {
   "cell_type": "code",
   "execution_count": null,
   "metadata": {},
   "outputs": [
    {
     "name": "stdout",
     "output_type": "stream",
     "text": [
      "40320\n"
     ]
    }
   ],
   "source": [
    "n = int(input(\"enter the number\"))\n",
    "fact=1\n",
    "for i in range(1,n+1):\n",
    "    fact=fact*i\n",
    "print(fact)\n",
    "## factorial of a number\n",
    "##loop k bahar ka mtlb h vo sbase last me execute hoga khali execute hoga"
   ]
  },
  {
   "cell_type": "code",
   "execution_count": 15,
   "metadata": {},
   "outputs": [
    {
     "name": "stdout",
     "output_type": "stream",
     "text": [
      "1\n",
      "2\n",
      "3\n",
      "5\n",
      "8\n",
      "13\n",
      "21\n"
     ]
    }
   ],
   "source": [
    "## fibonacci series\n",
    "n = int(input(\"enter the number\"))\n",
    "a = 0\n",
    "b = 1\n",
    "for i in range(1,n+1):\n",
    "    c = a+b\n",
    "    a = b \n",
    "    b = c\n",
    "    print(c)"
   ]
  },
  {
   "cell_type": "code",
   "execution_count": 5,
   "metadata": {},
   "outputs": [
    {
     "name": "stdout",
     "output_type": "stream",
     "text": [
      "original string is : apoorva\n",
      "a\n",
      "av\n",
      "avr\n",
      "avro\n",
      "avroo\n",
      "avroop\n",
      "avroopa\n"
     ]
    }
   ],
   "source": [
    "##reverse a string\n",
    "name=input(\"enter string\")\n",
    "print(\"original string is :\",name)\n",
    "r_name=\"\"\n",
    "count=len(name)\n",
    "while count>0:\n",
    "    r_name=r_name+name[count-1]\n",
    "    count=count-1\n",
    "    print(r_name)\n",
    "\n"
   ]
  },
  {
   "cell_type": "code",
   "execution_count": 6,
   "metadata": {},
   "outputs": [
    {
     "name": "stdout",
     "output_type": "stream",
     "text": [
      "original string is : apoorva\n",
      "avroopa\n"
     ]
    }
   ],
   "source": [
    "name=input(\"enter string\")\n",
    "print(\"original string is :\",name)\n",
    "r_name=\"\"\n",
    "count=len(name)\n",
    "while count>0:\n",
    "    r_name=r_name+name[count-1]\n",
    "    count=count-1\n",
    "print(r_name)\n",
    "\n"
   ]
  },
  {
   "cell_type": "code",
   "execution_count": 11,
   "metadata": {},
   "outputs": [
    {
     "name": "stdout",
     "output_type": "stream",
     "text": [
      "2.5\n"
     ]
    }
   ],
   "source": [
    "## avaerage of list of numbers using for loop\n",
    "list=[1,2,3,4]\n",
    "sum=0\n",
    "length=0\n",
    "for i in list:\n",
    "    sum=sum+i                                   \n",
    "    length=length+1\n",
    "print(sum/length)"
   ]
  },
  {
   "cell_type": "code",
   "execution_count": 19,
   "metadata": {},
   "outputs": [
    {
     "name": "stdout",
     "output_type": "stream",
     "text": [
      "6\n"
     ]
    }
   ],
   "source": [
    "##sum of a digits of a number using for loop\n",
    "n=input(\"enter the number\")\n",
    "sum=0\n",
    "for i in range(0,len(n)):\n",
    "    sum=sum+int(n[i])\n",
    "print(sum)     \n"
   ]
  },
  {
   "cell_type": "code",
   "execution_count": null,
   "metadata": {},
   "outputs": [],
   "source": [
    "## Write a program to print the multiplication table of numbers from 1 to 5 using a for loop."
   ]
  },
  {
   "cell_type": "code",
   "execution_count": null,
   "metadata": {},
   "outputs": [],
   "source": [
    "## Write a program to count the number of vowels in a given string using a for loop."
   ]
  },
  {
   "cell_type": "code",
   "execution_count": null,
   "metadata": {},
   "outputs": [],
   "source": [
    " ##Write a program to check if a given list of years has a leap year using a while loop."
   ]
  },
  {
   "cell_type": "markdown",
   "metadata": {},
   "source": [
    "concept of loops \n",
    "while loop"
   ]
  },
  {
   "cell_type": "code",
   "execution_count": 1,
   "metadata": {},
   "outputs": [
    {
     "name": "stdout",
     "output_type": "stream",
     "text": [
      "1\n",
      "2\n",
      "3\n",
      "4\n",
      "5\n"
     ]
    }
   ],
   "source": [
    "i=1\n",
    "n=5\n",
    "while i<=5:\n",
    "    print(i)\n",
    "    i=i+1\n"
   ]
  },
  {
   "cell_type": "code",
   "execution_count": 4,
   "metadata": {},
   "outputs": [
    {
     "name": "stdout",
     "output_type": "stream",
     "text": [
      "98\n",
      "196\n",
      "294\n",
      "392\n",
      "490\n",
      "588\n",
      "686\n",
      "784\n",
      "882\n",
      "980\n"
     ]
    }
   ],
   "source": [
    "n=int(input(\"enter number\"))\n",
    "i=1\n",
    "while i<=10:\n",
    "    m=n*i\n",
    "    i=i+1\n",
    "    print(m)\n"
   ]
  },
  {
   "cell_type": "code",
   "execution_count": 6,
   "metadata": {},
   "outputs": [
    {
     "name": "stdout",
     "output_type": "stream",
     "text": [
      "87\n",
      "174\n",
      "261\n",
      "348\n",
      "435\n",
      "522\n",
      "609\n",
      "696\n",
      "783\n",
      "870\n",
      "this is the multiplication table\n"
     ]
    }
   ],
   "source": [
    "n=int(input(\"enter number\"))\n",
    "i=1\n",
    "while i<=10:\n",
    "    print(n*i)\n",
    "    i=i+1\n",
    "print(\"this is the multiplication table\")    "
   ]
  },
  {
   "cell_type": "code",
   "execution_count": 8,
   "metadata": {},
   "outputs": [
    {
     "name": "stdout",
     "output_type": "stream",
     "text": [
      "hello students\n",
      "hello students\n",
      "hello students\n",
      "hello students\n",
      "hello students\n",
      "hello students\n",
      "hello students\n",
      "hello students\n",
      "hello students\n",
      "hello students\n",
      "hello students\n",
      "hello students\n",
      "hello students\n",
      "hello students\n",
      "hello students\n",
      "hello students\n",
      "hello students\n"
     ]
    }
   ],
   "source": [
    "count=0\n",
    "while count<=16:\n",
    "    print(\"hello students\")\n",
    "    count=count+1"
   ]
  },
  {
   "cell_type": "markdown",
   "metadata": {},
   "source": [
    "using else statement im the while loop"
   ]
  },
  {
   "cell_type": "code",
   "execution_count": 9,
   "metadata": {},
   "outputs": [
    {
     "name": "stdout",
     "output_type": "stream",
     "text": [
      "hello students\n",
      "hello students\n",
      "hello students\n",
      "hello students\n",
      "hello students\n",
      "hello students\n",
      "hello students\n",
      "hello students\n",
      "hello students\n",
      "hello students\n",
      "hello students\n",
      "hello students\n",
      "hello students\n",
      "hello students\n",
      "hello students\n",
      "hello students\n",
      "hello students\n",
      "this is else block\n"
     ]
    }
   ],
   "source": [
    "count=0\n",
    "while count<=16:\n",
    "    print(\"hello students\")\n",
    "    count=count+1\n",
    "else:\n",
    "    print(\"this is else block\")    "
   ]
  },
  {
   "cell_type": "code",
   "execution_count": 10,
   "metadata": {},
   "outputs": [
    {
     "name": "stdout",
     "output_type": "stream",
     "text": [
      "apple\n",
      "banana\n",
      "cherry\n"
     ]
    }
   ],
   "source": [
    "fruits=[\"apple\",\"banana\",\"cherry\"]\n",
    "for x in fruits:\n",
    "    print(x)"
   ]
  },
  {
   "cell_type": "markdown",
   "metadata": {},
   "source": [
    "looping through a string"
   ]
  },
  {
   "cell_type": "code",
   "execution_count": 11,
   "metadata": {},
   "outputs": [
    {
     "name": "stdout",
     "output_type": "stream",
     "text": [
      "b\n",
      "a\n",
      "n\n",
      "a\n",
      "n\n",
      "a\n"
     ]
    }
   ],
   "source": [
    "for x in \"banana\":\n",
    "    print(x) "
   ]
  },
  {
   "cell_type": "code",
   "execution_count": 16,
   "metadata": {},
   "outputs": [
    {
     "name": "stdout",
     "output_type": "stream",
     "text": [
      "0\n",
      "1\n",
      "2\n",
      "3\n",
      "4\n",
      "5\n",
      "6\n",
      "7\n",
      "8\n",
      "9\n",
      "10\n",
      "11\n",
      "12\n",
      "13\n",
      "14\n",
      "15\n",
      "16\n",
      "17\n",
      "18\n",
      "19\n",
      "20\n",
      "21\n",
      "22\n",
      "23\n",
      "24\n"
     ]
    }
   ],
   "source": [
    "for x in range(25):\n",
    "    print(x)\n",
    "    ## range fun n-1 tk chalta h"
   ]
  },
  {
   "cell_type": "code",
   "execution_count": null,
   "metadata": {},
   "outputs": [],
   "source": []
  }
 ],
 "metadata": {
  "kernelspec": {
   "display_name": "Python 3",
   "language": "python",
   "name": "python3"
  },
  "language_info": {
   "codemirror_mode": {
    "name": "ipython",
    "version": 3
   },
   "file_extension": ".py",
   "mimetype": "text/x-python",
   "name": "python",
   "nbconvert_exporter": "python",
   "pygments_lexer": "ipython3",
   "version": "3.13.1"
  }
 },
 "nbformat": 4,
 "nbformat_minor": 2
}
