{
 "cells": [
  {
   "cell_type": "code",
   "execution_count": 1,
   "metadata": {},
   "outputs": [
    {
     "name": "stdout",
     "output_type": "stream",
     "text": [
      "A\n",
      "B\n"
     ]
    }
   ],
   "source": [
    "marks=75\n",
    "if marks>=90:\n",
    "    print(\"A+\")\n",
    "if marks>=70:\n",
    "    print(\"A\")\n",
    "if marks>=50:\n",
    "    print(\"B\")\n",
    "if marks<50:\n",
    "    print(\"Fail\")            \n"
   ]
  },
  {
   "cell_type": "code",
   "execution_count": 1,
   "metadata": {},
   "outputs": [
    {
     "name": "stdout",
     "output_type": "stream",
     "text": [
      "A\n"
     ]
    }
   ],
   "source": [
    "marks=75\n",
    "if marks>=90:\n",
    "    print(\"A+\")\n",
    "elif marks>=70:\n",
    "    print(\"A\")\n",
    "elif marks>=50:\n",
    "    print(\"B\") \n",
    "elif marks<50:\n",
    "    print(\"fail\")  \n",
    "else:\n",
    "    print(\"invalid marks\")      \n"
   ]
  },
  {
   "cell_type": "code",
   "execution_count": 1,
   "metadata": {},
   "outputs": [
    {
     "name": "stdout",
     "output_type": "stream",
     "text": [
      "person is eligible to vote\n"
     ]
    }
   ],
   "source": [
    "age=34\n",
    "if age>=18:\n",
    "    print(\"person is eligible to vote\")\n",
    "else:\n",
    "    print(\"person is not eligible to vote\")    "
   ]
  },
  {
   "cell_type": "code",
   "execution_count": 2,
   "metadata": {},
   "outputs": [
    {
     "data": {
      "text/plain": [
       "True"
      ]
     },
     "execution_count": 2,
     "metadata": {},
     "output_type": "execute_result"
    }
   ],
   "source": [
    "apps=['drive','fb','insta']\n",
    "'fb'in apps"
   ]
  },
  {
   "cell_type": "code",
   "execution_count": 3,
   "metadata": {},
   "outputs": [
    {
     "name": "stdout",
     "output_type": "stream",
     "text": [
      "isosceles triangle\n"
     ]
    }
   ],
   "source": [
    "a=10\n",
    "b=20\n",
    "c=10\n",
    "if a==b==c:\n",
    "    print(\"equilateral triangle\")\n",
    "elif  a==b or b==c or c==a:\n",
    "    print(\"isosceles triangle\")\n",
    "else:\n",
    "    print(\"scalene triangle\")    \n"
   ]
  },
  {
   "cell_type": "code",
   "execution_count": null,
   "metadata": {},
   "outputs": [],
   "source": [
    "username=input(\"enter username:\")\n",
    "email=input(\"enter email:\")\n",
    "password=input(\"enter password:\")\n",
    "cpass=input(\"enter confirm password\")"
   ]
  }
 ],
 "metadata": {
  "kernelspec": {
   "display_name": "Python 3",
   "language": "python",
   "name": "python3"
  },
  "language_info": {
   "codemirror_mode": {
    "name": "ipython",
    "version": 3
   },
   "file_extension": ".py",
   "mimetype": "text/x-python",
   "name": "python",
   "nbconvert_exporter": "python",
   "pygments_lexer": "ipython3",
   "version": "3.13.1"
  }
 },
 "nbformat": 4,
 "nbformat_minor": 2
}
