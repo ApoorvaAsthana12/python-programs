{
 "cells": [
  {
   "cell_type": "code",
   "execution_count": 1,
   "metadata": {},
   "outputs": [
    {
     "name": "stdout",
     "output_type": "stream",
     "text": [
      "A\n",
      "B\n"
     ]
    }
   ],
   "source": [
    "marks=75\n",
    "if marks>=90:\n",
    "    print(\"A+\")\n",
    "if marks>=70:\n",
    "    print(\"A\")\n",
    "if marks>=50:\n",
    "    print(\"B\")\n",
    "if marks<50:\n",
    "    print(\"Fail\")            \n"
   ]
  },
  {
   "cell_type": "code",
   "execution_count": 1,
   "metadata": {},
   "outputs": [
    {
     "name": "stdout",
     "output_type": "stream",
     "text": [
      "A\n"
     ]
    }
   ],
   "source": [
    "marks=75\n",
    "if marks>=90:\n",
    "    print(\"A+\")\n",
    "elif marks>=70:\n",
    "    print(\"A\")\n",
    "elif marks>=50:\n",
    "    print(\"B\") \n",
    "elif marks<50:\n",
    "    print(\"fail\")  \n",
    "else:\n",
    "    print(\"invalid marks\")      \n"
   ]
  },
  {
   "cell_type": "code",
   "execution_count": 1,
   "metadata": {},
   "outputs": [
    {
     "name": "stdout",
     "output_type": "stream",
     "text": [
      "person is eligible to vote\n"
     ]
    }
   ],
   "source": [
    "age=34\n",
    "if age>=18:\n",
    "    print(\"person is eligible to vote\")\n",
    "else:\n",
    "    print(\"person is not eligible to vote\")    "
   ]
  },
  {
   "cell_type": "code",
   "execution_count": 2,
   "metadata": {},
   "outputs": [
    {
     "data": {
      "text/plain": [
       "True"
      ]
     },
     "execution_count": 2,
     "metadata": {},
     "output_type": "execute_result"
    }
   ],
   "source": [
    "apps=['drive','fb','insta']\n",
    "'fb'in apps"
   ]
  },
  {
   "cell_type": "code",
   "execution_count": 3,
   "metadata": {},
   "outputs": [
    {
     "name": "stdout",
     "output_type": "stream",
     "text": [
      "isosceles triangle\n"
     ]
    }
   ],
   "source": [
    "a=10\n",
    "b=20\n",
    "c=10\n",
    "if a==b==c:\n",
    "    print(\"equilateral triangle\")\n",
    "elif  a==b or b==c or c==a:\n",
    "    print(\"isosceles triangle\")\n",
    "else:\n",
    "    print(\"scalene triangle\")    \n"
   ]
  },
  {
   "cell_type": "markdown",
   "metadata": {},
   "source": [
    "IF STATEMENT"
   ]
  },
  {
   "cell_type": "code",
   "execution_count": 2,
   "metadata": {},
   "outputs": [
    {
     "name": "stdout",
     "output_type": "stream",
     "text": [
      "percentage of student is  89.0\n"
     ]
    }
   ],
   "source": [
    "x=input(\"enter the name of the student\")\n",
    "a=int(input(\"enter marks in hindi\"))\n",
    "b=int(input(\"enter marks im maths\"))\n",
    "c=int(input(\"enter marks in english\"))\n",
    "d=int(input(\"enter marks in social science\"))\n",
    "e=int(input(\"enter marks in computer\"))\n",
    "p=((a+b+c+d+e)/500)*100\n",
    "print(\"percentage of student is \",p )"
   ]
  },
  {
   "cell_type": "code",
   "execution_count": 3,
   "metadata": {},
   "outputs": [
    {
     "name": "stdout",
     "output_type": "stream",
     "text": [
      "C\n"
     ]
    }
   ],
   "source": [
    "x=int(input(\"enter the percentage scored\"))\n",
    "if x>=90:\n",
    "    print(\"A\")\n",
    "if x>=75 and a<90:\n",
    "    print(\"B\")\n",
    "if x>=65 and x<75:\n",
    "    print(\"C\")        "
   ]
  },
  {
   "cell_type": "markdown",
   "metadata": {},
   "source": [
    "if else statement"
   ]
  },
  {
   "cell_type": "code",
   "execution_count": 5,
   "metadata": {},
   "outputs": [
    {
     "name": "stdout",
     "output_type": "stream",
     "text": [
      "bye\n"
     ]
    }
   ],
   "source": [
    "a=int(input(\"enter number\"))\n",
    "if a%5==0:\n",
    "    print(\"hello\")\n",
    "else:\n",
    "    print(\"bye\") \n"
   ]
  },
  {
   "cell_type": "code",
   "execution_count": 7,
   "metadata": {},
   "outputs": [
    {
     "name": "stdout",
     "output_type": "stream",
     "text": [
      "negative\n"
     ]
    }
   ],
   "source": [
    "a=int(input(\"enter number\"))\n",
    "if a>0:\n",
    "    print(\"positive\")\n",
    "if a<0:\n",
    "    print(\"negative\")\n",
    "if a==0:\n",
    "    print(\"normal\")        "
   ]
  },
  {
   "cell_type": "markdown",
   "metadata": {},
   "source": [
    "if- elif - else statement"
   ]
  },
  {
   "cell_type": "code",
   "execution_count": 10,
   "metadata": {},
   "outputs": [
    {
     "name": "stdout",
     "output_type": "stream",
     "text": [
      "record not found\n"
     ]
    }
   ],
   "source": [
    "c=input(\"enter the city\")\n",
    "if c==\"delhi\":\n",
    "    print(\"red fort\")\n",
    "elif c==\"agra\":\n",
    "    print(\"taj mahal\")   \n",
    "elif c==\"jaipur\":\n",
    "    print(\"jalmahal\")\n",
    "elif c==\"orissa\":\n",
    "    print(\"konark temple\")\n",
    "elif c==\"hyderabad\":\n",
    "    print(\"charminar\")\n",
    "else :\n",
    "    print(\"record not found\")        \n"
   ]
  },
  {
   "cell_type": "markdown",
   "metadata": {},
   "source": [
    "nested if statement"
   ]
  },
  {
   "cell_type": "code",
   "execution_count": 1,
   "metadata": {},
   "outputs": [],
   "source": [
    "## if condition k andar ek cur condition phir ek condition"
   ]
  },
  {
   "cell_type": "code",
   "execution_count": null,
   "metadata": {},
   "outputs": [],
   "source": []
  }
 ],
 "metadata": {
  "kernelspec": {
   "display_name": "Python 3",
   "language": "python",
   "name": "python3"
  },
  "language_info": {
   "codemirror_mode": {
    "name": "ipython",
    "version": 3
   },
   "file_extension": ".py",
   "mimetype": "text/x-python",
   "name": "python",
   "nbconvert_exporter": "python",
   "pygments_lexer": "ipython3",
   "version": "3.13.1"
  }
 },
 "nbformat": 4,
 "nbformat_minor": 2
}
