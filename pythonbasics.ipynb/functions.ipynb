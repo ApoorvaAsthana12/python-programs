{
 "cells": [
  {
   "cell_type": "markdown",
   "metadata": {},
   "source": [
    "functions"
   ]
  },
  {
   "cell_type": "markdown",
   "metadata": {},
   "source": [
    "##user defined\n",
    "##built in\n",
    "user defined\n"
   ]
  },
  {
   "cell_type": "markdown",
   "metadata": {},
   "source": [
    "parametrized\n",
    "non parameterized\n",
    "void\n",
    "non void\n",
    "default"
   ]
  },
  {
   "cell_type": "code",
   "execution_count": 1,
   "metadata": {},
   "outputs": [],
   "source": [
    "def my_func():\n",
    "    print(\"hello world\")"
   ]
  },
  {
   "cell_type": "code",
   "execution_count": 2,
   "metadata": {},
   "outputs": [
    {
     "name": "stdout",
     "output_type": "stream",
     "text": [
      "hello world\n",
      "hello world\n",
      "hello world\n",
      "hello world\n"
     ]
    }
   ],
   "source": [
    "my_func()\n",
    "my_func()\n",
    "my_func()\n",
    "my_func()"
   ]
  },
  {
   "cell_type": "code",
   "execution_count": 6,
   "metadata": {},
   "outputs": [],
   "source": [
    "def sum(num1,num2):\n",
    "    print(num1+num2)"
   ]
  },
  {
   "cell_type": "code",
   "execution_count": 7,
   "metadata": {},
   "outputs": [
    {
     "name": "stdout",
     "output_type": "stream",
     "text": [
      "14\n"
     ]
    }
   ],
   "source": [
    "sum(6,8)"
   ]
  },
  {
   "cell_type": "code",
   "execution_count": 9,
   "metadata": {},
   "outputs": [],
   "source": [
    "##subjectivity\n",
    "##polarity\n",
    "##twitter sentiment analysis "
   ]
  },
  {
   "cell_type": "code",
   "execution_count": 10,
   "metadata": {},
   "outputs": [],
   "source": [
    "def name(fname):\n",
    "    print('hello',fname)"
   ]
  },
  {
   "cell_type": "code",
   "execution_count": 11,
   "metadata": {},
   "outputs": [
    {
     "name": "stdout",
     "output_type": "stream",
     "text": [
      "hello apoorva\n"
     ]
    }
   ],
   "source": [
    "name(\"apoorva\")"
   ]
  },
  {
   "cell_type": "code",
   "execution_count": 18,
   "metadata": {},
   "outputs": [],
   "source": [
    "\n",
    "def avg(num1,num2,num3):\n",
    "    print(num1+num2+num3)"
   ]
  },
  {
   "cell_type": "code",
   "execution_count": 19,
   "metadata": {},
   "outputs": [
    {
     "ename": "TypeError",
     "evalue": "object of type 'int' has no len()",
     "output_type": "error",
     "traceback": [
      "\u001b[1;31m---------------------------------------------------------------------------\u001b[0m",
      "\u001b[1;31mTypeError\u001b[0m                                 Traceback (most recent call last)",
      "Cell \u001b[1;32mIn[19], line 1\u001b[0m\n\u001b[1;32m----> 1\u001b[0m \u001b[43mavg\u001b[49m\u001b[43m(\u001b[49m\u001b[38;5;241;43m5\u001b[39;49m\u001b[43m,\u001b[49m\u001b[38;5;241;43m5\u001b[39;49m\u001b[43m,\u001b[49m\u001b[38;5;241;43m5\u001b[39;49m\u001b[43m)\u001b[49m\n",
      "Cell \u001b[1;32mIn[18], line 2\u001b[0m, in \u001b[0;36mavg\u001b[1;34m(num1, num2, num3)\u001b[0m\n\u001b[0;32m      1\u001b[0m \u001b[38;5;28;01mdef\u001b[39;00m \u001b[38;5;21mavg\u001b[39m(num1,num2,num3):\n\u001b[1;32m----> 2\u001b[0m     \u001b[38;5;28mprint\u001b[39m(num1\u001b[38;5;241m+\u001b[39mnum2\u001b[38;5;241m+\u001b[39mnum3\u001b[38;5;241m/\u001b[39m\u001b[38;5;28;43mlen\u001b[39;49m\u001b[43m(\u001b[49m\u001b[43mnum1\u001b[49m\u001b[43m)\u001b[49m,\u001b[38;5;28mlen\u001b[39m(num2),\u001b[38;5;28mlen\u001b[39m(num3))\n",
      "\u001b[1;31mTypeError\u001b[0m: object of type 'int' has no len()"
     ]
    }
   ],
   "source": [
    "avg(5,5,5)"
   ]
  },
  {
   "cell_type": "code",
   "execution_count": 21,
   "metadata": {},
   "outputs": [
    {
     "name": "stdout",
     "output_type": "stream",
     "text": [
      "15\n"
     ]
    }
   ],
   "source": [
    "def func(x):\n",
    "    return 5*x\n",
    "\n",
    "a=func(3)\n",
    "print(a)"
   ]
  },
  {
   "cell_type": "code",
   "execution_count": 23,
   "metadata": {},
   "outputs": [
    {
     "name": "stdout",
     "output_type": "stream",
     "text": [
      "i am from usa\n",
      "i am from australia\n",
      "i am from newzealand\n",
      "i am from india\n"
     ]
    }
   ],
   "source": [
    "def my_country(country=\"india\"):\n",
    "    print(\"i am from\",country)\n",
    "\n",
    "my_country('usa')\n",
    "my_country(\"australia\")\n",
    "my_country(\"newzealand\")\n",
    "my_country()"
   ]
  },
  {
   "cell_type": "markdown",
   "metadata": {},
   "source": [
    "built in methods\n"
   ]
  },
  {
   "cell_type": "code",
   "execution_count": 1,
   "metadata": {},
   "outputs": [],
   "source": [
    "import math"
   ]
  },
  {
   "cell_type": "code",
   "execution_count": 3,
   "metadata": {},
   "outputs": [
    {
     "name": "stdout",
     "output_type": "stream",
     "text": [
      "4.0\n",
      "8.0\n",
      "3.141592653589793\n",
      "2.718281828459045\n",
      "120\n",
      "3\n",
      "0.8939966636005579\n",
      "-0.4480736161291701\n",
      "-1.995200412208242\n",
      "60\n",
      "2.302585092994046\n"
     ]
    }
   ],
   "source": [
    "print(math.sqrt(16))\n",
    "print(math.pow(2,3))\n",
    "print(math.pi)\n",
    "print(math.e)\n",
    "print(math.factorial(5))\n",
    "print(math.gcd(12,15))\n",
    "print(math.sin(90))\n",
    "print(math.cos(90))\n",
    "print(math.tan(90))\n",
    "print(math.lcm(12,15))\n",
    "print(math.log(10))"
   ]
  },
  {
   "cell_type": "code",
   "execution_count": 4,
   "metadata": {},
   "outputs": [],
   "source": [
    "from random import random ,randint,choice,shuffle"
   ]
  },
  {
   "cell_type": "code",
   "execution_count": 5,
   "metadata": {},
   "outputs": [
    {
     "name": "stdout",
     "output_type": "stream",
     "text": [
      "get a random number between 0 and 1:  0.31550321131688497\n",
      "get a random number between 1 and 100:  67\n",
      "get a random number from a list :  3\n",
      "shuffle a list: ['apoorva,kavya,ayushi,divya']\n"
     ]
    }
   ],
   "source": [
    "print('get a random number between 0 and 1: ',random())\n",
    "print('get a random number between 1 and 100: ',randint(1,100))\n",
    "print('get a random number from a list : ',choice([1,2,3,4,5]))\n",
    "names=['apoorva,kavya,ayushi,divya']\n",
    "shuffle(names)\n",
    "print('shuffle a list:',names)"
   ]
  },
  {
   "cell_type": "code",
   "execution_count": 8,
   "metadata": {},
   "outputs": [],
   "source": [
    "from datetime import datetime as dt\n",
    "##dt is short form\n",
    "##used mostly for games"
   ]
  },
  {
   "cell_type": "code",
   "execution_count": 11,
   "metadata": {},
   "outputs": [
    {
     "name": "stdout",
     "output_type": "stream",
     "text": [
      "current date and time : 2024-12-21 18:31:51.568881\n",
      "current date : 2024-12-21\n"
     ]
    },
    {
     "ename": "TypeError",
     "evalue": "unbound method datetime.time() needs an argument",
     "output_type": "error",
     "traceback": [
      "\u001b[1;31m---------------------------------------------------------------------------\u001b[0m",
      "\u001b[1;31mTypeError\u001b[0m                                 Traceback (most recent call last)",
      "Cell \u001b[1;32mIn[11], line 3\u001b[0m\n\u001b[0;32m      1\u001b[0m \u001b[38;5;28mprint\u001b[39m(\u001b[38;5;124m'\u001b[39m\u001b[38;5;124mcurrent date and time :\u001b[39m\u001b[38;5;124m'\u001b[39m,dt\u001b[38;5;241m.\u001b[39mnow())\n\u001b[0;32m      2\u001b[0m \u001b[38;5;28mprint\u001b[39m(\u001b[38;5;124m'\u001b[39m\u001b[38;5;124mcurrent date :\u001b[39m\u001b[38;5;124m'\u001b[39m,dt\u001b[38;5;241m.\u001b[39mnow()\u001b[38;5;241m.\u001b[39mdate())\n\u001b[1;32m----> 3\u001b[0m \u001b[38;5;28mprint\u001b[39m(\u001b[38;5;124m'\u001b[39m\u001b[38;5;124mcurrent time :\u001b[39m\u001b[38;5;124m'\u001b[39m,dt\u001b[38;5;241m.\u001b[39mnow(),\u001b[43mdt\u001b[49m\u001b[38;5;241;43m.\u001b[39;49m\u001b[43mtime\u001b[49m\u001b[43m(\u001b[49m\u001b[43m)\u001b[49m)\n\u001b[0;32m      4\u001b[0m \u001b[38;5;28mprint\u001b[39m(\u001b[38;5;124m'\u001b[39m\u001b[38;5;124mcurrent year: \u001b[39m\u001b[38;5;124m'\u001b[39m,dt\u001b[38;5;241m.\u001b[39mnow(),dt\u001b[38;5;241m.\u001b[39myear())\n\u001b[0;32m      5\u001b[0m \u001b[38;5;28mprint\u001b[39m(\u001b[38;5;124m'\u001b[39m\u001b[38;5;124mcurrent month:\u001b[39m\u001b[38;5;124m'\u001b[39m,dt\u001b[38;5;241m.\u001b[39mnow(),dt\u001b[38;5;241m.\u001b[39mmonth())\n",
      "\u001b[1;31mTypeError\u001b[0m: unbound method datetime.time() needs an argument"
     ]
    }
   ],
   "source": [
    "print('current date and time :',dt.now())\n",
    "print('current date :',dt.now().date())\n",
    "print('current time :',dt.now(),dt.time())\n",
    "print('current year: ',dt.now(),dt.year())\n",
    "print('current month:',dt.now(),dt.month())\n",
    "print('current day:',dt.now(),dt.day())\n",
    "print('current hour:',dt.now(),dt.hour())\n",
    "print('current minute:',dt.now(),dt.minute())\n",
    "print('current second:',dt.now(),dt.second())\n",
    "print('current microsecond:',dt.now(),dt.month())\n",
    "\n"
   ]
  },
  {
   "cell_type": "code",
   "execution_count": 12,
   "metadata": {},
   "outputs": [
    {
     "name": "stdout",
     "output_type": "stream",
     "text": [
      "date in dd-mm-yyyy format : 21-12-24\n"
     ]
    }
   ],
   "source": [
    "date= dt.strftime(dt.now(),'%d-%m-%y')\n",
    "print('date in dd-mm-yyyy format :',date)"
   ]
  },
  {
   "cell_type": "code",
   "execution_count": 15,
   "metadata": {},
   "outputs": [
    {
     "name": "stdout",
     "output_type": "stream",
     "text": [
      "time in 24 hour format: 18:41:53\n"
     ]
    }
   ],
   "source": [
    "time=dt.strftime(dt.now(),'%H:%M:%S')\n",
    "print('time in 24 hour format:',time)"
   ]
  },
  {
   "cell_type": "code",
   "execution_count": 17,
   "metadata": {},
   "outputs": [],
   "source": [
    "import os\n",
    "##folder dhundhne me help krta h"
   ]
  },
  {
   "cell_type": "code",
   "execution_count": 18,
   "metadata": {},
   "outputs": [
    {
     "name": "stdout",
     "output_type": "stream",
     "text": [
      "current working directory: c:\\Users\\Acer\\Desktop\\python programs\\pythonbasics.ipynb\n"
     ]
    }
   ],
   "source": [
    "print('current working directory:',os.getcwd())"
   ]
  },
  {
   "cell_type": "code",
   "execution_count": 22,
   "metadata": {},
   "outputs": [
    {
     "name": "stdout",
     "output_type": "stream",
     "text": [
      "[files in current directory]\n",
      "3 files found\n"
     ]
    }
   ],
   "source": [
    "files = os.listdir()\n",
    "print('[files in current directory]')\n",
    "print(len(files),'files found')\n",
    "## is for identification\n",
    "## poora path = absolute path"
   ]
  },
  {
   "cell_type": "code",
   "execution_count": 24,
   "metadata": {},
   "outputs": [
    {
     "data": {
      "text/plain": [
       "<generator object walk at 0x0000020854200D30>"
      ]
     },
     "execution_count": 24,
     "metadata": {},
     "output_type": "execute_result"
    }
   ],
   "source": [
    "os.walk('c:')\n",
    "##module\n",
    "\n"
   ]
  },
  {
   "cell_type": "code",
   "execution_count": null,
   "metadata": {},
   "outputs": [],
   "source": [
    "total_files =0 \n",
    "for path,folders,files in os.walk():\n",
    "    total"
   ]
  }
 ],
 "metadata": {
  "kernelspec": {
   "display_name": "Python 3",
   "language": "python",
   "name": "python3"
  },
  "language_info": {
   "codemirror_mode": {
    "name": "ipython",
    "version": 3
   },
   "file_extension": ".py",
   "mimetype": "text/x-python",
   "name": "python",
   "nbconvert_exporter": "python",
   "pygments_lexer": "ipython3",
   "version": "3.13.1"
  }
 },
 "nbformat": 4,
 "nbformat_minor": 2
}
