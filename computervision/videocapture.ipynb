{
 "cells": [
  {
   "cell_type": "code",
   "execution_count": 5,
   "metadata": {},
   "outputs": [],
   "source": [
    "import cv2\n",
    "\n",
    "#open a connection to the webcam (0 for default camera)\n",
    "cap=cv2.VideoCapture(0)\n",
    "\n",
    "\n",
    "while True:\n",
    "    ## read a frame from the webcam\n",
    "    ret,frame=cap.read()\n",
    "    \n",
    "    if not ret:\n",
    "        break\n",
    "    ##display the frame\n",
    "    cv2.imshow(\"Webcam Video\",frame)\n",
    "\n",
    "    ##exit the loop when 'q' is pressed\n",
    "    if  cv2.waitKey(1)==ord('q'):\n",
    "        break\n",
    "    ## release the webcam and close all the windows\n",
    "    \n",
    "cap.release()   \n",
    "cv2.destroyAllWindows()"
   ]
  },
  {
   "cell_type": "code",
   "execution_count": null,
   "metadata": {},
   "outputs": [],
   "source": []
  },
  {
   "cell_type": "code",
   "execution_count": null,
   "metadata": {},
   "outputs": [],
   "source": []
  }
 ],
 "metadata": {
  "kernelspec": {
   "display_name": "Python 3",
   "language": "python",
   "name": "python3"
  },
  "language_info": {
   "codemirror_mode": {
    "name": "ipython",
    "version": 3
   },
   "file_extension": ".py",
   "mimetype": "text/x-python",
   "name": "python",
   "nbconvert_exporter": "python",
   "pygments_lexer": "ipython3",
   "version": "3.13.1"
  }
 },
 "nbformat": 4,
 "nbformat_minor": 2
}
