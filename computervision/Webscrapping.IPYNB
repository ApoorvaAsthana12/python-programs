{
 "cells": [
  {
   "cell_type": "markdown",
   "metadata": {},
   "source": [
    "websites se data extract krna\n"
   ]
  },
  {
   "cell_type": "code",
   "execution_count": 1,
   "metadata": {},
   "outputs": [
    {
     "name": "stdout",
     "output_type": "stream",
     "text": [
      "Collecting dputils\n",
      "  Downloading dputils-1.0.2-py3-none-any.whl.metadata (5.8 kB)\n",
      "Collecting bs4<0.0.3,>=0.0.2 (from dputils)\n",
      "  Downloading bs4-0.0.2-py2.py3-none-any.whl.metadata (411 bytes)\n",
      "Collecting docx2txt<0.9,>=0.8 (from dputils)\n",
      "  Downloading docx2txt-0.8.tar.gz (2.8 kB)\n",
      "  Installing build dependencies: started\n",
      "  Installing build dependencies: finished with status 'done'\n",
      "  Getting requirements to build wheel: started\n",
      "  Getting requirements to build wheel: finished with status 'done'\n",
      "  Preparing metadata (pyproject.toml): started\n",
      "  Preparing metadata (pyproject.toml): finished with status 'done'\n",
      "Collecting fpdf2<3.0.0,>=2.5.4 (from dputils)\n",
      "  Downloading fpdf2-2.8.2-py2.py3-none-any.whl.metadata (67 kB)\n",
      "Collecting httpx<0.28.0,>=0.27.0 (from httpx[http2]<0.28.0,>=0.27.0->dputils)\n",
      "  Downloading httpx-0.27.2-py3-none-any.whl.metadata (7.1 kB)\n",
      "Collecting pdfminer.six<20220525,>=20220524 (from dputils)\n",
      "  Downloading pdfminer.six-20220524-py3-none-any.whl.metadata (3.7 kB)\n",
      "Collecting python-docx<2.0.0,>=1.1.2 (from dputils)\n",
      "  Downloading python_docx-1.1.2-py3-none-any.whl.metadata (2.0 kB)\n",
      "Collecting beautifulsoup4 (from bs4<0.0.3,>=0.0.2->dputils)\n",
      "  Downloading beautifulsoup4-4.13.3-py3-none-any.whl.metadata (3.8 kB)\n",
      "Collecting defusedxml (from fpdf2<3.0.0,>=2.5.4->dputils)\n",
      "  Downloading defusedxml-0.7.1-py2.py3-none-any.whl.metadata (32 kB)\n",
      "Requirement already satisfied: Pillow!=9.2.*,>=6.2.2 in c:\\users\\acer\\appdata\\local\\programs\\python\\python313\\lib\\site-packages (from fpdf2<3.0.0,>=2.5.4->dputils) (11.0.0)\n",
      "Requirement already satisfied: fonttools>=4.34.0 in c:\\users\\acer\\appdata\\local\\programs\\python\\python313\\lib\\site-packages (from fpdf2<3.0.0,>=2.5.4->dputils) (4.55.3)\n",
      "Collecting anyio (from httpx<0.28.0,>=0.27.0->httpx[http2]<0.28.0,>=0.27.0->dputils)\n",
      "  Downloading anyio-4.8.0-py3-none-any.whl.metadata (4.6 kB)\n",
      "Requirement already satisfied: certifi in c:\\users\\acer\\appdata\\local\\programs\\python\\python313\\lib\\site-packages (from httpx<0.28.0,>=0.27.0->httpx[http2]<0.28.0,>=0.27.0->dputils) (2025.1.31)\n",
      "Collecting httpcore==1.* (from httpx<0.28.0,>=0.27.0->httpx[http2]<0.28.0,>=0.27.0->dputils)\n",
      "  Downloading httpcore-1.0.7-py3-none-any.whl.metadata (21 kB)\n",
      "Requirement already satisfied: idna in c:\\users\\acer\\appdata\\local\\programs\\python\\python313\\lib\\site-packages (from httpx<0.28.0,>=0.27.0->httpx[http2]<0.28.0,>=0.27.0->dputils) (2.8)\n",
      "Collecting sniffio (from httpx<0.28.0,>=0.27.0->httpx[http2]<0.28.0,>=0.27.0->dputils)\n",
      "  Downloading sniffio-1.3.1-py3-none-any.whl.metadata (3.9 kB)\n",
      "Collecting h11<0.15,>=0.13 (from httpcore==1.*->httpx<0.28.0,>=0.27.0->httpx[http2]<0.28.0,>=0.27.0->dputils)\n",
      "  Downloading h11-0.14.0-py3-none-any.whl.metadata (8.2 kB)\n",
      "Collecting h2<5,>=3 (from httpx[http2]<0.28.0,>=0.27.0->dputils)\n",
      "  Downloading h2-4.2.0-py3-none-any.whl.metadata (5.1 kB)\n",
      "Collecting charset-normalizer>=2.0.0 (from pdfminer.six<20220525,>=20220524->dputils)\n",
      "  Downloading charset_normalizer-3.4.1-cp313-cp313-win_amd64.whl.metadata (36 kB)\n",
      "Collecting cryptography>=36.0.0 (from pdfminer.six<20220525,>=20220524->dputils)\n",
      "  Downloading cryptography-44.0.0-cp39-abi3-win_amd64.whl.metadata (5.7 kB)\n",
      "Collecting lxml>=3.1.0 (from python-docx<2.0.0,>=1.1.2->dputils)\n",
      "  Downloading lxml-5.3.0-cp313-cp313-win_amd64.whl.metadata (3.9 kB)\n",
      "Requirement already satisfied: typing-extensions>=4.9.0 in c:\\users\\acer\\appdata\\local\\programs\\python\\python313\\lib\\site-packages (from python-docx<2.0.0,>=1.1.2->dputils) (4.12.2)\n",
      "Collecting cffi>=1.12 (from cryptography>=36.0.0->pdfminer.six<20220525,>=20220524->dputils)\n",
      "  Downloading cffi-1.17.1-cp313-cp313-win_amd64.whl.metadata (1.6 kB)\n",
      "Collecting hyperframe<7,>=6.1 (from h2<5,>=3->httpx[http2]<0.28.0,>=0.27.0->dputils)\n",
      "  Downloading hyperframe-6.1.0-py3-none-any.whl.metadata (4.3 kB)\n",
      "Collecting hpack<5,>=4.1 (from h2<5,>=3->httpx[http2]<0.28.0,>=0.27.0->dputils)\n",
      "  Downloading hpack-4.1.0-py3-none-any.whl.metadata (4.6 kB)\n",
      "Collecting soupsieve>1.2 (from beautifulsoup4->bs4<0.0.3,>=0.0.2->dputils)\n",
      "  Downloading soupsieve-2.6-py3-none-any.whl.metadata (4.6 kB)\n",
      "Collecting pycparser (from cffi>=1.12->cryptography>=36.0.0->pdfminer.six<20220525,>=20220524->dputils)\n",
      "  Downloading pycparser-2.22-py3-none-any.whl.metadata (943 bytes)\n",
      "Downloading dputils-1.0.2-py3-none-any.whl (9.0 kB)\n",
      "Downloading bs4-0.0.2-py2.py3-none-any.whl (1.2 kB)\n",
      "Downloading fpdf2-2.8.2-py2.py3-none-any.whl (236 kB)\n",
      "Downloading httpx-0.27.2-py3-none-any.whl (76 kB)\n",
      "Downloading httpcore-1.0.7-py3-none-any.whl (78 kB)\n",
      "Downloading pdfminer.six-20220524-py3-none-any.whl (5.6 MB)\n",
      "   ---------------------------------------- 0.0/5.6 MB ? eta -:--:--\n",
      "   ---------------------------------------  5.5/5.6 MB 30.3 MB/s eta 0:00:01\n",
      "   ---------------------------------------- 5.6/5.6 MB 25.2 MB/s eta 0:00:00\n",
      "Downloading python_docx-1.1.2-py3-none-any.whl (244 kB)\n",
      "Downloading charset_normalizer-3.4.1-cp313-cp313-win_amd64.whl (102 kB)\n",
      "Downloading cryptography-44.0.0-cp39-abi3-win_amd64.whl (3.2 MB)\n",
      "   ---------------------------------------- 0.0/3.2 MB ? eta -:--:--\n",
      "   ---------------------------------------- 3.2/3.2 MB 22.3 MB/s eta 0:00:00\n",
      "Downloading h2-4.2.0-py3-none-any.whl (60 kB)\n",
      "Downloading lxml-5.3.0-cp313-cp313-win_amd64.whl (3.8 MB)\n",
      "   ---------------------------------------- 0.0/3.8 MB ? eta -:--:--\n",
      "   ---------------------------------------- 3.8/3.8 MB 23.2 MB/s eta 0:00:00\n",
      "Downloading anyio-4.8.0-py3-none-any.whl (96 kB)\n",
      "Downloading sniffio-1.3.1-py3-none-any.whl (10 kB)\n",
      "Downloading beautifulsoup4-4.13.3-py3-none-any.whl (186 kB)\n",
      "Downloading defusedxml-0.7.1-py2.py3-none-any.whl (25 kB)\n",
      "Downloading cffi-1.17.1-cp313-cp313-win_amd64.whl (182 kB)\n",
      "Downloading h11-0.14.0-py3-none-any.whl (58 kB)\n",
      "Downloading hpack-4.1.0-py3-none-any.whl (34 kB)\n",
      "Downloading hyperframe-6.1.0-py3-none-any.whl (13 kB)\n",
      "Downloading soupsieve-2.6-py3-none-any.whl (36 kB)\n",
      "Downloading pycparser-2.22-py3-none-any.whl (117 kB)\n",
      "Building wheels for collected packages: docx2txt\n",
      "  Building wheel for docx2txt (pyproject.toml): started\n",
      "  Building wheel for docx2txt (pyproject.toml): finished with status 'done'\n",
      "  Created wheel for docx2txt: filename=docx2txt-0.8-py3-none-any.whl size=4003 sha256=b94f068f973a570ce95b7f0502709b1ae50afd40b3d8b918d989cd92a9eac9cd\n",
      "  Stored in directory: c:\\users\\acer\\appdata\\local\\pip\\cache\\wheels\\6f\\f7\\05\\c745e7756faa8641660b6159b979deb122f2e3e1e0d9287eeb\n",
      "Successfully built docx2txt\n",
      "Installing collected packages: docx2txt, soupsieve, sniffio, pycparser, lxml, hyperframe, hpack, h11, defusedxml, charset-normalizer, python-docx, httpcore, h2, fpdf2, cffi, beautifulsoup4, anyio, httpx, cryptography, bs4, pdfminer.six, dputils\n",
      "Successfully installed anyio-4.8.0 beautifulsoup4-4.13.3 bs4-0.0.2 cffi-1.17.1 charset-normalizer-3.4.1 cryptography-44.0.0 defusedxml-0.7.1 docx2txt-0.8 dputils-1.0.2 fpdf2-2.8.2 h11-0.14.0 h2-4.2.0 hpack-4.1.0 httpcore-1.0.7 httpx-0.27.2 hyperframe-6.1.0 lxml-5.3.0 pdfminer.six-20220524 pycparser-2.22 python-docx-1.1.2 sniffio-1.3.1 soupsieve-2.6\n",
      "Note: you may need to restart the kernel to use updated packages.\n"
     ]
    },
    {
     "name": "stderr",
     "output_type": "stream",
     "text": [
      "\n",
      "[notice] A new release of pip is available: 24.3.1 -> 25.0\n",
      "[notice] To update, run: python.exe -m pip install --upgrade pip\n"
     ]
    }
   ],
   "source": [
    "pip install dputils"
   ]
  },
  {
   "cell_type": "code",
   "execution_count": 2,
   "metadata": {},
   "outputs": [],
   "source": [
    "from dputils.scrape import Scraper,Tag\n",
    "from pprint import pp"
   ]
  },
  {
   "cell_type": "markdown",
   "metadata": {},
   "source": [
    "  -Tag is a class which helps to decide what to collect from the page\n",
    "     -Scraper executes the scraping process"
   ]
  },
  {
   "cell_type": "code",
   "execution_count": 3,
   "metadata": {},
   "outputs": [],
   "source": [
    "url=\"https://www.flipkart.com/realme-p1-5g-feather-blue-128-gb/p/itmae4447062b5b5?pid=MOBH4GSKATGPQSAU&lid=LSTMOBH4GSKATGPQSAUXI0KNN&marketplace=FLIPKART&q=mobile+phones&store=tyy%2F4io&srno=s_1_1&otracker=search&otracker1=search&fm=organic&iid=en_1wH2mmuDovxk7XDdh_Nhe9ahXVcIrsdPWBefwGLWZiRSJvBnkPtbLzZ57ogQ2vIV-GOWCpkkH-uR_6hP3sZqsPUFjCTyOHoHZs-Z5_PS_w0%3D&ppt=hp&ppn=homepage&ssid=3pj32jz02o0000001738933390700&qH=a81ad6e72f7a2fd1\""
   ]
  },
  {
   "cell_type": "code",
   "execution_count": 4,
   "metadata": {},
   "outputs": [
    {
     "data": {
      "text/plain": [
       "<bound method Scraper.get_repeating_date_from_page of <dputils.scrape.Scraper object at 0x0000024DCE4101A0>>"
      ]
     },
     "execution_count": 4,
     "metadata": {},
     "output_type": "execute_result"
    }
   ],
   "source": [
    "scraper =Scraper(url)\n",
    "scraper.get_repeating_date_from_page"
   ]
  },
  {
   "cell_type": "code",
   "execution_count": null,
   "metadata": {},
   "outputs": [],
   "source": [
    "result=scraper.get_repeating_date_from_page(\n",
    "    target=Tag()\n",
    ")"
   ]
  }
 ],
 "metadata": {
  "kernelspec": {
   "display_name": "Python 3",
   "language": "python",
   "name": "python3"
  },
  "language_info": {
   "codemirror_mode": {
    "name": "ipython",
    "version": 3
   },
   "file_extension": ".py",
   "mimetype": "text/x-python",
   "name": "python",
   "nbconvert_exporter": "python",
   "pygments_lexer": "ipython3",
   "version": "3.13.1"
  }
 },
 "nbformat": 4,
 "nbformat_minor": 2
}
