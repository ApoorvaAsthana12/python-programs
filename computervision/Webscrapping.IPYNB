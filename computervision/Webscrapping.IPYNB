{
 "cells": [
  {
   "cell_type": "markdown",
   "metadata": {},
   "source": [
    "websites se data extract krna\n"
   ]
  },
  {
   "cell_type": "code",
   "execution_count": 12,
   "metadata": {},
   "outputs": [
    {
     "name": "stdout",
     "output_type": "stream",
     "text": [
      "Requirement already satisfied: dputils in c:\\users\\acer\\appdata\\local\\programs\\python\\python313\\lib\\site-packages (1.0.2)Note: you may need to restart the kernel to use updated packages.\n"
     ]
    },
    {
     "name": "stderr",
     "output_type": "stream",
     "text": [
      "\n",
      "[notice] A new release of pip is available: 24.3.1 -> 25.0\n",
      "[notice] To update, run: python.exe -m pip install --upgrade pip\n"
     ]
    },
    {
     "name": "stdout",
     "output_type": "stream",
     "text": [
      "\n",
      "Requirement already satisfied: bs4<0.0.3,>=0.0.2 in c:\\users\\acer\\appdata\\local\\programs\\python\\python313\\lib\\site-packages (from dputils) (0.0.2)\n",
      "Requirement already satisfied: docx2txt<0.9,>=0.8 in c:\\users\\acer\\appdata\\local\\programs\\python\\python313\\lib\\site-packages (from dputils) (0.8)\n",
      "Requirement already satisfied: fpdf2<3.0.0,>=2.5.4 in c:\\users\\acer\\appdata\\local\\programs\\python\\python313\\lib\\site-packages (from dputils) (2.8.2)\n",
      "Requirement already satisfied: httpx<0.28.0,>=0.27.0 in c:\\users\\acer\\appdata\\local\\programs\\python\\python313\\lib\\site-packages (from httpx[http2]<0.28.0,>=0.27.0->dputils) (0.27.2)\n",
      "Requirement already satisfied: pdfminer.six<20220525,>=20220524 in c:\\users\\acer\\appdata\\local\\programs\\python\\python313\\lib\\site-packages (from dputils) (20220524)\n",
      "Requirement already satisfied: python-docx<2.0.0,>=1.1.2 in c:\\users\\acer\\appdata\\local\\programs\\python\\python313\\lib\\site-packages (from dputils) (1.1.2)\n",
      "Requirement already satisfied: beautifulsoup4 in c:\\users\\acer\\appdata\\local\\programs\\python\\python313\\lib\\site-packages (from bs4<0.0.3,>=0.0.2->dputils) (4.13.3)\n",
      "Requirement already satisfied: defusedxml in c:\\users\\acer\\appdata\\local\\programs\\python\\python313\\lib\\site-packages (from fpdf2<3.0.0,>=2.5.4->dputils) (0.7.1)\n",
      "Requirement already satisfied: Pillow!=9.2.*,>=6.2.2 in c:\\users\\acer\\appdata\\local\\programs\\python\\python313\\lib\\site-packages (from fpdf2<3.0.0,>=2.5.4->dputils) (11.0.0)\n",
      "Requirement already satisfied: fonttools>=4.34.0 in c:\\users\\acer\\appdata\\local\\programs\\python\\python313\\lib\\site-packages (from fpdf2<3.0.0,>=2.5.4->dputils) (4.55.3)\n",
      "Requirement already satisfied: anyio in c:\\users\\acer\\appdata\\local\\programs\\python\\python313\\lib\\site-packages (from httpx<0.28.0,>=0.27.0->httpx[http2]<0.28.0,>=0.27.0->dputils) (4.8.0)\n",
      "Requirement already satisfied: certifi in c:\\users\\acer\\appdata\\local\\programs\\python\\python313\\lib\\site-packages (from httpx<0.28.0,>=0.27.0->httpx[http2]<0.28.0,>=0.27.0->dputils) (2025.1.31)\n",
      "Requirement already satisfied: httpcore==1.* in c:\\users\\acer\\appdata\\local\\programs\\python\\python313\\lib\\site-packages (from httpx<0.28.0,>=0.27.0->httpx[http2]<0.28.0,>=0.27.0->dputils) (1.0.7)\n",
      "Requirement already satisfied: idna in c:\\users\\acer\\appdata\\local\\programs\\python\\python313\\lib\\site-packages (from httpx<0.28.0,>=0.27.0->httpx[http2]<0.28.0,>=0.27.0->dputils) (2.8)\n",
      "Requirement already satisfied: sniffio in c:\\users\\acer\\appdata\\local\\programs\\python\\python313\\lib\\site-packages (from httpx<0.28.0,>=0.27.0->httpx[http2]<0.28.0,>=0.27.0->dputils) (1.3.1)\n",
      "Requirement already satisfied: h11<0.15,>=0.13 in c:\\users\\acer\\appdata\\local\\programs\\python\\python313\\lib\\site-packages (from httpcore==1.*->httpx<0.28.0,>=0.27.0->httpx[http2]<0.28.0,>=0.27.0->dputils) (0.14.0)\n",
      "Requirement already satisfied: h2<5,>=3 in c:\\users\\acer\\appdata\\local\\programs\\python\\python313\\lib\\site-packages (from httpx[http2]<0.28.0,>=0.27.0->dputils) (4.2.0)\n",
      "Requirement already satisfied: charset-normalizer>=2.0.0 in c:\\users\\acer\\appdata\\local\\programs\\python\\python313\\lib\\site-packages (from pdfminer.six<20220525,>=20220524->dputils) (3.4.1)\n",
      "Requirement already satisfied: cryptography>=36.0.0 in c:\\users\\acer\\appdata\\local\\programs\\python\\python313\\lib\\site-packages (from pdfminer.six<20220525,>=20220524->dputils) (44.0.0)\n",
      "Requirement already satisfied: lxml>=3.1.0 in c:\\users\\acer\\appdata\\local\\programs\\python\\python313\\lib\\site-packages (from python-docx<2.0.0,>=1.1.2->dputils) (5.3.0)\n",
      "Requirement already satisfied: typing-extensions>=4.9.0 in c:\\users\\acer\\appdata\\local\\programs\\python\\python313\\lib\\site-packages (from python-docx<2.0.0,>=1.1.2->dputils) (4.12.2)\n",
      "Requirement already satisfied: cffi>=1.12 in c:\\users\\acer\\appdata\\local\\programs\\python\\python313\\lib\\site-packages (from cryptography>=36.0.0->pdfminer.six<20220525,>=20220524->dputils) (1.17.1)\n",
      "Requirement already satisfied: hyperframe<7,>=6.1 in c:\\users\\acer\\appdata\\local\\programs\\python\\python313\\lib\\site-packages (from h2<5,>=3->httpx[http2]<0.28.0,>=0.27.0->dputils) (6.1.0)\n",
      "Requirement already satisfied: hpack<5,>=4.1 in c:\\users\\acer\\appdata\\local\\programs\\python\\python313\\lib\\site-packages (from h2<5,>=3->httpx[http2]<0.28.0,>=0.27.0->dputils) (4.1.0)\n",
      "Requirement already satisfied: soupsieve>1.2 in c:\\users\\acer\\appdata\\local\\programs\\python\\python313\\lib\\site-packages (from beautifulsoup4->bs4<0.0.3,>=0.0.2->dputils) (2.6)\n",
      "Requirement already satisfied: pycparser in c:\\users\\acer\\appdata\\local\\programs\\python\\python313\\lib\\site-packages (from cffi>=1.12->cryptography>=36.0.0->pdfminer.six<20220525,>=20220524->dputils) (2.22)\n"
     ]
    }
   ],
   "source": [
    "pip install dputils"
   ]
  },
  {
   "cell_type": "code",
   "execution_count": 13,
   "metadata": {},
   "outputs": [],
   "source": [
    "from dputils.scrape import Scraper,Tag\n",
    "from pprint import pp"
   ]
  },
  {
   "cell_type": "markdown",
   "metadata": {},
   "source": [
    "  -Tag is a class which helps to decide what to collect from the page\n",
    "     -Scraper executes the scraping process"
   ]
  },
  {
   "cell_type": "code",
   "execution_count": 14,
   "metadata": {},
   "outputs": [],
   "source": [
    "url=\"https://www.flipkart.com/realme-p1-5g-feather-blue-128-gb/p/itmae4447062b5b5?pid=MOBH4GSKATGPQSAU&lid=LSTMOBH4GSKATGPQSAUXI0KNN&marketplace=FLIPKART&q=mobile+phones&store=tyy%2F4io&srno=s_1_1&otracker=search&otracker1=search&fm=organic&iid=en_1wH2mmuDovxk7XDdh_Nhe9ahXVcIrsdPWBefwGLWZiRSJvBnkPtbLzZ57ogQ2vIV-GOWCpkkH-uR_6hP3sZqsPUFjCTyOHoHZs-Z5_PS_w0%3D&ppt=hp&ppn=homepage&ssid=3pj32jz02o0000001738933390700&qH=a81ad6e72f7a2fd1\""
   ]
  },
  {
   "cell_type": "code",
   "execution_count": 15,
   "metadata": {},
   "outputs": [
    {
     "data": {
      "text/plain": [
       "<bound method Scraper.get_repeating_date_from_page of <dputils.scrape.Scraper object at 0x000002B8F1FBF230>>"
      ]
     },
     "execution_count": 15,
     "metadata": {},
     "output_type": "execute_result"
    }
   ],
   "source": [
    "scraper =Scraper(url)\n",
    "scraper.get_repeating_date_from_page"
   ]
  },
  {
   "cell_type": "code",
   "execution_count": 16,
   "metadata": {},
   "outputs": [],
   "source": [
    "result=scraper.get_repeating_date_from_page(\n",
    "    target=Tag('div',cls='DOjaWF gdgoEp'),\n",
    "    items=Tag('div',cls='_75nlfW'),\n",
    "    title=Tag('div',cls='KzDlHZ'),\n",
    "    price=Tag('div',cls='Nx9bqj _4b5DiR')\n",
    ")"
   ]
  },
  {
   "cell_type": "code",
   "execution_count": 17,
   "metadata": {},
   "outputs": [
    {
     "data": {
      "text/plain": [
       "[]"
      ]
     },
     "execution_count": 17,
     "metadata": {},
     "output_type": "execute_result"
    }
   ],
   "source": [
    "result"
   ]
  },
  {
   "cell_type": "code",
   "execution_count": 18,
   "metadata": {},
   "outputs": [],
   "source": [
    "import pandas as pd"
   ]
  },
  {
   "cell_type": "code",
   "execution_count": null,
   "metadata": {},
   "outputs": [],
   "source": []
  }
 ],
 "metadata": {
  "kernelspec": {
   "display_name": "Python 3",
   "language": "python",
   "name": "python3"
  },
  "language_info": {
   "codemirror_mode": {
    "name": "ipython",
    "version": 3
   },
   "file_extension": ".py",
   "mimetype": "text/x-python",
   "name": "python",
   "nbconvert_exporter": "python",
   "pygments_lexer": "ipython3",
   "version": "3.13.1"
  }
 },
 "nbformat": 4,
 "nbformat_minor": 2
}
